{
 "cells": [
  {
   "cell_type": "markdown",
   "metadata": {},
   "source": [
    "# **6. Custom Functions**\n",
    "---"
   ]
  },
  {
   "cell_type": "markdown",
   "metadata": {},
   "source": [
    "## **Custom Functions**\n",
    "\n",
    "#### <ins>Definition</ins>\n",
    "\n",
    "A custom function is an operation which is defined and named by a user."
   ]
  },
  {
   "cell_type": "markdown",
   "metadata": {},
   "source": [
    "<br>\n",
    "\n",
    "#### <ins>Syntax</ins>\n",
    "\n",
    "As an assignment statement binds a name to an operand, so a function definition statement binds a name to an operation.\n",
    "\n",
    "Function definitions are composed of a header and a suite (or \"body\").\n",
    "\n",
    "The header begins with the `def` keyword followed by the function name, a pair of parentheses containing parameter names, and a colon.\n",
    "\n",
    "The body of a function definition must be indented and can contain any Python code."
   ]
  },
  {
   "cell_type": "code",
   "execution_count": 2,
   "metadata": {},
   "outputs": [],
   "source": [
    "#    Name\n",
    "#    |  \n",
    "#    |    Parameters\n",
    "#    |    |\n",
    "def add(a, b):          # Header\n",
    "    return a + b        # Suite (or \"body\")"
   ]
  },
  {
   "cell_type": "code",
   "execution_count": 3,
   "metadata": {},
   "outputs": [
    {
     "data": {
      "text/plain": [
       "5"
      ]
     },
     "execution_count": 3,
     "metadata": {},
     "output_type": "execute_result"
    }
   ],
   "source": [
    "# Note to self: This is a pure function.\n",
    "\n",
    "add(2, 3)"
   ]
  },
  {
   "cell_type": "markdown",
   "metadata": {},
   "source": [
    "<br>\n",
    "\n",
    "#### <ins>[Parameters]</ins>"
   ]
  },
  {
   "cell_type": "markdown",
   "metadata": {},
   "source": [
    "<br>\n",
    "\n",
    "Parameters and arguments are closely related but distinct.\n",
    "\n",
    "An argument is a specific value. A parameter is an abstract variable.\n",
    "\n",
    "When a function is called, any arguments passed to the function are bound to the names of the corresponding parameters. Any reference to a parameter in the function’s operation will yield the corresponding argument.\n"
   ]
  },
  {
   "cell_type": "code",
   "execution_count": 16,
   "metadata": {},
   "outputs": [
    {
     "name": "stdout",
     "output_type": "stream",
     "text": [
      "The first argument is 1\n",
      "The second argument is 2\n"
     ]
    }
   ],
   "source": [
    "# Note to self: This is an impure function (a \"procedure\").\n",
    "# This impure function happens to return 'None', but impure functions can return any value.\n",
    "\n",
    "def print_two_arguments(parameter_a, parameter_b):\n",
    "    print('The first argument is', parameter_a)\n",
    "    print('The second argument is', parameter_b)\n",
    "\n",
    "print_two_arguments(1, 2)"
   ]
  },
  {
   "cell_type": "markdown",
   "metadata": {},
   "source": [
    "<br>\n",
    "\n",
    "[Reminder of different types of arguments]\n",
    "\n",
    "[Begin explaining how to define different types of parameters]"
   ]
  },
  {
   "cell_type": "code",
   "execution_count": 5,
   "metadata": {},
   "outputs": [],
   "source": [
    "# I can use the same function to demonstrate [var-positional] parameter definition.\n",
    "\n",
    "def add(*numbers):\n",
    "    print(type(numbers))    \n",
    "    sum = 0\n",
    "    for number in numbers:\n",
    "        sum += number\n",
    "    return sum"
   ]
  },
  {
   "cell_type": "code",
   "execution_count": 6,
   "metadata": {},
   "outputs": [
    {
     "name": "stdout",
     "output_type": "stream",
     "text": [
      "<class 'tuple'>\n"
     ]
    },
    {
     "data": {
      "text/plain": [
       "6"
      ]
     },
     "execution_count": 6,
     "metadata": {},
     "output_type": "execute_result"
    }
   ],
   "source": [
    "add(1, 2, 3)"
   ]
  },
  {
   "cell_type": "code",
   "execution_count": 7,
   "metadata": {},
   "outputs": [],
   "source": [
    "def add(*numbers):\n",
    "    print(type(numbers))    \n",
    "    return sum(numbers)"
   ]
  },
  {
   "cell_type": "code",
   "execution_count": 8,
   "metadata": {},
   "outputs": [
    {
     "name": "stdout",
     "output_type": "stream",
     "text": [
      "<class 'tuple'>\n"
     ]
    },
    {
     "data": {
      "text/plain": [
       "6"
      ]
     },
     "execution_count": 8,
     "metadata": {},
     "output_type": "execute_result"
    }
   ],
   "source": [
    "add(1, 2, 3)"
   ]
  }
 ],
 "metadata": {
  "kernelspec": {
   "display_name": "Python 3",
   "language": "python",
   "name": "python3"
  },
  "language_info": {
   "codemirror_mode": {
    "name": "ipython",
    "version": 3
   },
   "file_extension": ".py",
   "mimetype": "text/x-python",
   "name": "python",
   "nbconvert_exporter": "python",
   "pygments_lexer": "ipython3",
   "version": "3.10.13"
  }
 },
 "nbformat": 4,
 "nbformat_minor": 2
}
