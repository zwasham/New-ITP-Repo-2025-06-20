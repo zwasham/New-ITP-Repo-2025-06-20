{
 "cells": [
  {
   "cell_type": "code",
   "execution_count": null,
   "metadata": {},
   "outputs": [],
   "source": [
    "from math import sqrt"
   ]
  },
  {
   "cell_type": "code",
   "execution_count": null,
   "metadata": {},
   "outputs": [],
   "source": [
    "sqrt(4)"
   ]
  },
  {
   "cell_type": "code",
   "execution_count": 3,
   "metadata": {},
   "outputs": [],
   "source": [
    "def perform_operation(operation, operand):\n",
    "    return operation(operand)"
   ]
  },
  {
   "cell_type": "code",
   "execution_count": null,
   "metadata": {},
   "outputs": [],
   "source": [
    "perform_operation(abs, -4)"
   ]
  },
  {
   "cell_type": "code",
   "execution_count": null,
   "metadata": {},
   "outputs": [],
   "source": [
    "operations = [\n",
    "    [abs, -4],\n",
    "    [sqrt, 4]\n",
    "]\n",
    "\n",
    "results = []\n",
    "\n",
    "for operation, operand in operations:\n",
    "    results.append(perform_operation(operation, operand))\n",
    "\n",
    "results"
   ]
  },
  {
   "cell_type": "code",
   "execution_count": 8,
   "metadata": {},
   "outputs": [],
   "source": [
    "stored_username = 'firstlast'\n",
    "stored_password = 'Password'\n",
    "stored_credentials = (stored_username, stored_password)\n",
    "\n",
    "private_dict = {\n",
    "    stored_credentials : 'Private Information'\n",
    "}\n",
    "\n",
    "input_username = input('Username:')\n",
    "input_password = input('Password:')\n",
    "input_credentials = (input_username, input_password)\n",
    "\n",
    "if input_credentials == stored_credentials:\n",
    "    print(private_dict[stored_credentials])"
   ]
  },
  {
   "cell_type": "code",
   "execution_count": 6,
   "metadata": {},
   "outputs": [
    {
     "name": "stdout",
     "output_type": "stream",
     "text": [
      "15\n",
      "40\n"
     ]
    }
   ],
   "source": [
    "test_list = [[1, 2, 3, 4, 5], [6, 7, 8, 9, 10]]\n",
    "\n",
    "for a, b, c, d, e in test_list:\n",
    "    print(a + b + c + e + d)"
   ]
  },
  {
   "cell_type": "code",
   "execution_count": 11,
   "metadata": {},
   "outputs": [
    {
     "name": "stdout",
     "output_type": "stream",
     "text": [
      "one two\n"
     ]
    }
   ],
   "source": [
    "x, y = {'one' : 1, 'two' : 2}\n",
    "print(x, y)"
   ]
  },
  {
   "cell_type": "code",
   "execution_count": 5,
   "metadata": {},
   "outputs": [
    {
     "name": "stdout",
     "output_type": "stream",
     "text": [
      "(1, 'a')\n",
      "(2, 'b')\n",
      "(3, 'c')\n"
     ]
    }
   ],
   "source": [
    "number_list = [1, 2, 3]\n",
    "letter_list = ['a', 'b', 'c']\n",
    "\n",
    "for x in zip(number_list, letter_list):\n",
    "    print(x)"
   ]
  },
  {
   "cell_type": "code",
   "execution_count": 8,
   "metadata": {},
   "outputs": [
    {
     "name": "stdout",
     "output_type": "stream",
     "text": [
      "(0, 'a')\n",
      "(1, 'b')\n",
      "(2, 'c')\n"
     ]
    }
   ],
   "source": [
    "for x in enumerate(letter_list):\n",
    "    print(x)"
   ]
  },
  {
   "cell_type": "code",
   "execution_count": 11,
   "metadata": {},
   "outputs": [
    {
     "name": "stdout",
     "output_type": "stream",
     "text": [
      "range(0, 10)\n"
     ]
    }
   ],
   "source": [
    "print(range(10))"
   ]
  },
  {
   "cell_type": "markdown",
   "metadata": {},
   "source": [
    "## Custom Functions"
   ]
  },
  {
   "cell_type": "code",
   "execution_count": 1,
   "metadata": {},
   "outputs": [],
   "source": [
    "def two():\n",
    "    return 2"
   ]
  },
  {
   "cell_type": "code",
   "execution_count": 2,
   "metadata": {},
   "outputs": [
    {
     "data": {
      "text/plain": [
       "4"
      ]
     },
     "execution_count": 2,
     "metadata": {},
     "output_type": "execute_result"
    }
   ],
   "source": [
    "two() + 2"
   ]
  },
  {
   "cell_type": "code",
   "execution_count": 9,
   "metadata": {},
   "outputs": [
    {
     "name": "stdout",
     "output_type": "stream",
     "text": [
      "4\n",
      "6\n"
     ]
    }
   ],
   "source": [
    "def two_plus_two():\n",
    "    return 2 + 2\n",
    "\n",
    "print(two_plus_two())\n",
    "print(two_plus_two() + 2)"
   ]
  },
  {
   "cell_type": "code",
   "execution_count": 7,
   "metadata": {},
   "outputs": [
    {
     "ename": "TypeError",
     "evalue": "two() takes 0 positional arguments but 1 was given",
     "output_type": "error",
     "traceback": [
      "\u001b[0;31m---------------------------------------------------------------------------\u001b[0m",
      "\u001b[0;31mTypeError\u001b[0m                                 Traceback (most recent call last)",
      "Cell \u001b[0;32mIn[7], line 1\u001b[0m\n\u001b[0;32m----> 1\u001b[0m \u001b[43mtwo\u001b[49m\u001b[43m(\u001b[49m\u001b[38;5;241;43m1\u001b[39;49m\u001b[43m)\u001b[49m\n",
      "\u001b[0;31mTypeError\u001b[0m: two() takes 0 positional arguments but 1 was given"
     ]
    }
   ],
   "source": [
    "two(1)"
   ]
  },
  {
   "cell_type": "code",
   "execution_count": 8,
   "metadata": {},
   "outputs": [
    {
     "data": {
      "text/plain": [
       "4"
      ]
     },
     "execution_count": 8,
     "metadata": {},
     "output_type": "execute_result"
    }
   ],
   "source": [
    "# This is a good introductory example.\n",
    "\n",
    "def add(a, b):\n",
    "    return a + b\n",
    "\n",
    "add(2, 2)"
   ]
  },
  {
   "cell_type": "code",
   "execution_count": 10,
   "metadata": {},
   "outputs": [
    {
     "ename": "UnboundLocalError",
     "evalue": "local variable 'x' referenced before assignment",
     "output_type": "error",
     "traceback": [
      "\u001b[0;31m---------------------------------------------------------------------------\u001b[0m",
      "\u001b[0;31mUnboundLocalError\u001b[0m                         Traceback (most recent call last)",
      "Cell \u001b[0;32mIn[10], line 6\u001b[0m\n\u001b[1;32m      3\u001b[0m \u001b[38;5;28;01mdef\u001b[39;00m \u001b[38;5;21mincrement_x\u001b[39m():\n\u001b[1;32m      4\u001b[0m     x \u001b[38;5;241m+\u001b[39m\u001b[38;5;241m=\u001b[39m \u001b[38;5;241m1\u001b[39m\n\u001b[0;32m----> 6\u001b[0m \u001b[43mincrement_x\u001b[49m\u001b[43m(\u001b[49m\u001b[43m)\u001b[49m\n",
      "Cell \u001b[0;32mIn[10], line 4\u001b[0m, in \u001b[0;36mincrement_x\u001b[0;34m()\u001b[0m\n\u001b[1;32m      3\u001b[0m \u001b[38;5;28;01mdef\u001b[39;00m \u001b[38;5;21mincrement_x\u001b[39m():\n\u001b[0;32m----> 4\u001b[0m     x \u001b[38;5;241m+\u001b[39m\u001b[38;5;241m=\u001b[39m \u001b[38;5;241m1\u001b[39m\n",
      "\u001b[0;31mUnboundLocalError\u001b[0m: local variable 'x' referenced before assignment"
     ]
    }
   ],
   "source": [
    "x = 1\n",
    "\n",
    "def increment_x():\n",
    "    x += 1\n",
    "\n",
    "increment_x()"
   ]
  },
  {
   "cell_type": "code",
   "execution_count": 12,
   "metadata": {},
   "outputs": [
    {
     "data": {
      "text/plain": [
       "2"
      ]
     },
     "execution_count": 12,
     "metadata": {},
     "output_type": "execute_result"
    }
   ],
   "source": [
    "def increment_x():\n",
    "    global x\n",
    "    x += 1\n",
    "\n",
    "increment_x()\n",
    "\n",
    "x"
   ]
  },
  {
   "cell_type": "code",
   "execution_count": 14,
   "metadata": {},
   "outputs": [
    {
     "ename": "UnboundLocalError",
     "evalue": "local variable 'x' referenced before assignment",
     "output_type": "error",
     "traceback": [
      "\u001b[0;31m---------------------------------------------------------------------------\u001b[0m",
      "\u001b[0;31mUnboundLocalError\u001b[0m                         Traceback (most recent call last)",
      "Cell \u001b[0;32mIn[14], line 4\u001b[0m\n\u001b[1;32m      1\u001b[0m \u001b[38;5;28;01mdef\u001b[39;00m \u001b[38;5;21mdelete_x\u001b[39m():\n\u001b[1;32m      2\u001b[0m     \u001b[38;5;28;01mdel\u001b[39;00m x\n\u001b[0;32m----> 4\u001b[0m \u001b[43mdelete_x\u001b[49m\u001b[43m(\u001b[49m\u001b[43m)\u001b[49m\n",
      "Cell \u001b[0;32mIn[14], line 2\u001b[0m, in \u001b[0;36mdelete_x\u001b[0;34m()\u001b[0m\n\u001b[1;32m      1\u001b[0m \u001b[38;5;28;01mdef\u001b[39;00m \u001b[38;5;21mdelete_x\u001b[39m():\n\u001b[0;32m----> 2\u001b[0m     \u001b[38;5;28;01mdel\u001b[39;00m x\n",
      "\u001b[0;31mUnboundLocalError\u001b[0m: local variable 'x' referenced before assignment"
     ]
    }
   ],
   "source": [
    "def delete_x():\n",
    "    del x\n",
    "\n",
    "delete_x()"
   ]
  },
  {
   "cell_type": "code",
   "execution_count": 15,
   "metadata": {},
   "outputs": [
    {
     "data": {
      "text/plain": [
       "6"
      ]
     },
     "execution_count": 15,
     "metadata": {},
     "output_type": "execute_result"
    }
   ],
   "source": [
    "list_of_numbers = [1, 2, 3]         # Functions can receive any type of object as an argument.\n",
    "\n",
    "def sum_of_elements(list):          # Parameters are variables. As with other variables, descriptive\n",
    "    total = 0                       # parameter names make code easier to understand.\n",
    "    for element in list:\n",
    "        total += element\n",
    "    return total\n",
    "\n",
    "sum_of_elements(list_of_numbers)"
   ]
  },
  {
   "cell_type": "code",
   "execution_count": null,
   "metadata": {},
   "outputs": [],
   "source": [
    "def list_to_dict(list):\n",
    "    if type(list) != list:\n",
    "        raise TypeError "
   ]
  },
  {
   "cell_type": "code",
   "execution_count": 25,
   "metadata": {},
   "outputs": [],
   "source": [
    "portfolio_list = [\n",
    "    ['AAPL', 'Apple', 184.99],\n",
    "    ['MSFT', 'Microsoft', 329.98],\n",
    "    ['SPX', 'S&P 500 Index', 5815.03],\n",
    "    ['AMZN', 'Amazon', 135.23],\n",
    "    ['RUT', 'Russell 2000 Index', 2254.80],\n",
    "    ['TSLA', 'Tesla', 250.12],\n",
    "    ['GOOG', 'Alphabet', 130.45],\n",
    "]"
   ]
  },
  {
   "cell_type": "code",
   "execution_count": 26,
   "metadata": {},
   "outputs": [],
   "source": [
    "def convert_portfolio_format(list):\n",
    "    output_dict = {}    # You can create variables within functions. I could introduce namespaces here.\n",
    "    for ticker, name, price in list:\n",
    "        if 'Index' in name:\n",
    "            continue\n",
    "        else:\n",
    "            output_dict[ticker] = {'Name' : name, 'Price' : price}\n",
    "    return output_dict"
   ]
  },
  {
   "cell_type": "code",
   "execution_count": 27,
   "metadata": {},
   "outputs": [
    {
     "data": {
      "text/plain": [
       "{'AAPL': {'Name': 'Apple', 'Price': 184.99},\n",
       " 'MSFT': {'Name': 'Microsoft', 'Price': 329.98},\n",
       " 'AMZN': {'Name': 'Amazon', 'Price': 135.23},\n",
       " 'TSLA': {'Name': 'Tesla', 'Price': 250.12},\n",
       " 'GOOG': {'Name': 'Alphabet', 'Price': 130.45}}"
      ]
     },
     "execution_count": 27,
     "metadata": {},
     "output_type": "execute_result"
    }
   ],
   "source": [
    "list_to_dict(portfolio_list)"
   ]
  },
  {
   "cell_type": "code",
   "execution_count": 28,
   "metadata": {},
   "outputs": [
    {
     "ename": "TypeError",
     "evalue": "cannot unpack non-iterable int object",
     "output_type": "error",
     "traceback": [
      "\u001b[0;31m---------------------------------------------------------------------------\u001b[0m",
      "\u001b[0;31mTypeError\u001b[0m                                 Traceback (most recent call last)",
      "Cell \u001b[0;32mIn[28], line 1\u001b[0m\n\u001b[0;32m----> 1\u001b[0m \u001b[43mlist_to_dict\u001b[49m\u001b[43m(\u001b[49m\u001b[43m[\u001b[49m\u001b[38;5;241;43m1\u001b[39;49m\u001b[43m,\u001b[49m\u001b[43m \u001b[49m\u001b[38;5;241;43m2\u001b[39;49m\u001b[43m,\u001b[49m\u001b[43m \u001b[49m\u001b[38;5;241;43m3\u001b[39;49m\u001b[43m]\u001b[49m\u001b[43m)\u001b[49m\n",
      "Cell \u001b[0;32mIn[26], line 3\u001b[0m, in \u001b[0;36mlist_to_dict\u001b[0;34m(list)\u001b[0m\n\u001b[1;32m      1\u001b[0m \u001b[38;5;28;01mdef\u001b[39;00m \u001b[38;5;21mlist_to_dict\u001b[39m(\u001b[38;5;28mlist\u001b[39m):\n\u001b[1;32m      2\u001b[0m     output_dict \u001b[38;5;241m=\u001b[39m {}\n\u001b[0;32m----> 3\u001b[0m     \u001b[38;5;28;01mfor\u001b[39;00m ticker, name, price \u001b[38;5;129;01min\u001b[39;00m \u001b[38;5;28mlist\u001b[39m:\n\u001b[1;32m      4\u001b[0m         \u001b[38;5;28;01mif\u001b[39;00m \u001b[38;5;124m'\u001b[39m\u001b[38;5;124mIndex\u001b[39m\u001b[38;5;124m'\u001b[39m \u001b[38;5;129;01min\u001b[39;00m name:\n\u001b[1;32m      5\u001b[0m             \u001b[38;5;28;01mcontinue\u001b[39;00m\n",
      "\u001b[0;31mTypeError\u001b[0m: cannot unpack non-iterable int object"
     ]
    }
   ],
   "source": [
    "list_to_dict([1, 2, 3])             # I could use an example like this to demonstrate error handling."
   ]
  },
  {
   "cell_type": "code",
   "execution_count": 30,
   "metadata": {},
   "outputs": [],
   "source": [
    "# I could add an optional argument with a default value to this function.\n",
    "\n",
    "def convert_portfolio_format(list, display = False):\n",
    "    output_dict = {}    # You can create variables within functions. I could introduce namespaces here.\n",
    "    \n",
    "    for ticker, name, price in list:\n",
    "        if 'Index' in name:\n",
    "            continue\n",
    "        else:\n",
    "            output_dict[ticker] = {'Name' : name, 'Price' : price}\n",
    "                                                                            # You can use blank lines to\n",
    "    if display == True:                                                     # separate parts of the definition.\n",
    "        for key, value in output_dict.items():                              # The interpreter ignores them.\n",
    "            print(f'Key: {key}')\n",
    "            print(f'Value: {value}')\n",
    "            print()\n",
    "    \n",
    "    return output_dict"
   ]
  },
  {
   "cell_type": "code",
   "execution_count": 33,
   "metadata": {},
   "outputs": [
    {
     "name": "stdout",
     "output_type": "stream",
     "text": [
      "Key: AAPL\n",
      "Value: {'Name': 'Apple', 'Price': 184.99}\n",
      "\n",
      "Key: MSFT\n",
      "Value: {'Name': 'Microsoft', 'Price': 329.98}\n",
      "\n",
      "Key: AMZN\n",
      "Value: {'Name': 'Amazon', 'Price': 135.23}\n",
      "\n",
      "Key: TSLA\n",
      "Value: {'Name': 'Tesla', 'Price': 250.12}\n",
      "\n",
      "Key: GOOG\n",
      "Value: {'Name': 'Alphabet', 'Price': 130.45}\n",
      "\n"
     ]
    }
   ],
   "source": [
    "portfolio_dict = convert_portfolio_format(portfolio_list, display = True)"
   ]
  },
  {
   "cell_type": "code",
   "execution_count": null,
   "metadata": {},
   "outputs": [],
   "source": [
    "def convert_portfolio_format(list, display = False):\n",
    "    \n",
    "    '''Add docstring here'''    # Explain and demonstrate docstrings.\n",
    "    \n",
    "    output_dict = {}    \n",
    "        \n",
    "    for ticker, name, price in list:\n",
    "        if 'Index' in name:\n",
    "            continue\n",
    "        else:\n",
    "            output_dict[ticker] = {'Name' : name, 'Price' : price}\n",
    "                                                                            \n",
    "    if display == True:                                                     \n",
    "        for key, value in output_dict.items():                              \n",
    "            print(f'Key: {key}')\n",
    "            print(f'Value: {value}')\n",
    "            print()\n",
    "    \n",
    "    return output_dict"
   ]
  },
  {
   "cell_type": "code",
   "execution_count": 35,
   "metadata": {},
   "outputs": [
    {
     "data": {
      "text/plain": [
       "[1, 2, 3, 4]"
      ]
     },
     "execution_count": 35,
     "metadata": {},
     "output_type": "execute_result"
    }
   ],
   "source": [
    "def append(list, element):\n",
    "    return list + [element]\n",
    "\n",
    "append([1, 2, 3], 4)"
   ]
  },
  {
   "cell_type": "code",
   "execution_count": 37,
   "metadata": {},
   "outputs": [
    {
     "name": "stdout",
     "output_type": "stream",
     "text": [
      "Hello\n"
     ]
    }
   ],
   "source": [
    "def greeting():\n",
    "    print('Hello')\n",
    "\n",
    "greeting()"
   ]
  },
  {
   "cell_type": "code",
   "execution_count": 39,
   "metadata": {},
   "outputs": [
    {
     "ename": "ValueError",
     "evalue": "invalid literal for int() with base 10: '12:30'",
     "output_type": "error",
     "traceback": [
      "\u001b[0;31m---------------------------------------------------------------------------\u001b[0m",
      "\u001b[0;31mValueError\u001b[0m                                Traceback (most recent call last)",
      "Cell \u001b[0;32mIn[39], line 1\u001b[0m\n\u001b[0;32m----> 1\u001b[0m \u001b[38;5;28;43mint\u001b[39;49m\u001b[43m(\u001b[49m\u001b[38;5;124;43m'\u001b[39;49m\u001b[38;5;124;43m12:30\u001b[39;49m\u001b[38;5;124;43m'\u001b[39;49m\u001b[43m)\u001b[49m\n",
      "\u001b[0;31mValueError\u001b[0m: invalid literal for int() with base 10: '12:30'"
     ]
    }
   ],
   "source": [
    "int('12:30')"
   ]
  },
  {
   "cell_type": "code",
   "execution_count": 41,
   "metadata": {},
   "outputs": [
    {
     "name": "stdout",
     "output_type": "stream",
     "text": [
      "The time is 12:30.\n"
     ]
    }
   ],
   "source": [
    "time = '12:30'\n",
    "hour = int(time[ : time.index(':')])\n",
    "minute = int(time[time.index(':') + 1 : ])\n",
    "print(f'The time is {hour}:{minute}.')"
   ]
  },
  {
   "cell_type": "code",
   "execution_count": 55,
   "metadata": {},
   "outputs": [],
   "source": [
    "def greeting(time):                             # Students should know that this parameter name is distinct\n",
    "    '''Docstring'''\n",
    "    \n",
    "    hour = int(time[ : time.index(':')])        # from the time variable defined in the cell above.\n",
    "    minute = int(time[time.index(':') + 1 : ])\n",
    "    \n",
    "    if 24 <= hour:\n",
    "        raise RuntimeError                      # How do I add a message after this?\n",
    "    elif 5 <= hour < 12:\n",
    "        message = 'Good morning.'\n",
    "    elif 12 <= hour < 17:\n",
    "        message = 'Good afternoon.'\n",
    "    elif 17 <= hour < 12:\n",
    "        message = 'Good evening.'\n",
    "    else:\n",
    "        message = 'Why are you awake?'\n",
    "    \n",
    "    print(message)\n"
   ]
  },
  {
   "cell_type": "code",
   "execution_count": 57,
   "metadata": {},
   "outputs": [
    {
     "name": "stdout",
     "output_type": "stream",
     "text": [
      "Good afternoon.\n"
     ]
    }
   ],
   "source": [
    "greeting('12:30')"
   ]
  },
  {
   "cell_type": "code",
   "execution_count": 58,
   "metadata": {},
   "outputs": [
    {
     "ename": "RuntimeError",
     "evalue": "",
     "output_type": "error",
     "traceback": [
      "\u001b[0;31m---------------------------------------------------------------------------\u001b[0m",
      "\u001b[0;31mRuntimeError\u001b[0m                              Traceback (most recent call last)",
      "Cell \u001b[0;32mIn[58], line 1\u001b[0m\n\u001b[0;32m----> 1\u001b[0m \u001b[43mgreeting\u001b[49m\u001b[43m(\u001b[49m\u001b[38;5;124;43m'\u001b[39;49m\u001b[38;5;124;43m112:30\u001b[39;49m\u001b[38;5;124;43m'\u001b[39;49m\u001b[43m)\u001b[49m\n",
      "Cell \u001b[0;32mIn[55], line 8\u001b[0m, in \u001b[0;36mgreeting\u001b[0;34m(time)\u001b[0m\n\u001b[1;32m      5\u001b[0m minute \u001b[38;5;241m=\u001b[39m \u001b[38;5;28mint\u001b[39m(time[time\u001b[38;5;241m.\u001b[39mindex(\u001b[38;5;124m'\u001b[39m\u001b[38;5;124m:\u001b[39m\u001b[38;5;124m'\u001b[39m) \u001b[38;5;241m+\u001b[39m \u001b[38;5;241m1\u001b[39m : ])\n\u001b[1;32m      7\u001b[0m \u001b[38;5;28;01mif\u001b[39;00m \u001b[38;5;241m24\u001b[39m \u001b[38;5;241m<\u001b[39m\u001b[38;5;241m=\u001b[39m hour:\n\u001b[0;32m----> 8\u001b[0m     \u001b[38;5;28;01mraise\u001b[39;00m \u001b[38;5;167;01mRuntimeError\u001b[39;00m\n\u001b[1;32m      9\u001b[0m \u001b[38;5;28;01melif\u001b[39;00m \u001b[38;5;241m5\u001b[39m \u001b[38;5;241m<\u001b[39m\u001b[38;5;241m=\u001b[39m hour \u001b[38;5;241m<\u001b[39m \u001b[38;5;241m12\u001b[39m:\n\u001b[1;32m     10\u001b[0m     message \u001b[38;5;241m=\u001b[39m \u001b[38;5;124m'\u001b[39m\u001b[38;5;124mGood morning.\u001b[39m\u001b[38;5;124m'\u001b[39m\n",
      "\u001b[0;31mRuntimeError\u001b[0m: "
     ]
    }
   ],
   "source": [
    "greeting('112:30')"
   ]
  },
  {
   "cell_type": "code",
   "execution_count": 60,
   "metadata": {},
   "outputs": [],
   "source": [
    "greeting_dict = {\n",
    "    'Morning' : {\n",
    "        'English' : 'Good morning', \n",
    "        'Spanish' : 'Buenos dias.', \n",
    "        'French' : 'Bonjour.'\n",
    "    },\n",
    "    'Afternoon' : {\n",
    "        'English' : 'Good afternoon.', \n",
    "        'Spanish' : 'Buenas tardes.', \n",
    "        'French' : 'Bon après-midi.'\n",
    "    },\n",
    "    'Evening' : {\n",
    "        'English' : 'Good evening.', \n",
    "        'Spanish' : 'Buenas noches.', \n",
    "        'French' : 'Bonsoir.'\n",
    "    },\n",
    "    'Night' : {\n",
    "        'English' : 'Why are you awake?', \n",
    "        'Spanish' : '¿Por qué estás despierto?', \n",
    "        'French' : 'Pourquoi es-tu réveillé?'\n",
    "    }\n",
    "}"
   ]
  },
  {
   "cell_type": "code",
   "execution_count": 64,
   "metadata": {},
   "outputs": [
    {
     "data": {
      "text/plain": [
       "'Bonjour.'"
      ]
     },
     "execution_count": 64,
     "metadata": {},
     "output_type": "execute_result"
    }
   ],
   "source": [
    "greeting_dict['Morning']['French']"
   ]
  },
  {
   "cell_type": "code",
   "execution_count": 5,
   "metadata": {},
   "outputs": [],
   "source": [
    "def greeting(time, language):                   \n",
    "    '''Docstring'''\n",
    "    \n",
    "    # Defining dictionary of potential greetings\n",
    "\n",
    "    greeting_dict = {\n",
    "        'Morning' : {\n",
    "            'English' : 'Good morning', \n",
    "            'Spanish' : 'Buenos dias.', \n",
    "            'French' : 'Bonjour.'\n",
    "        },\n",
    "        'Afternoon' : {\n",
    "            'English' : 'Good afternoon.', \n",
    "            'Spanish' : 'Buenas tardes.', \n",
    "            'French' : 'Bon après-midi.'\n",
    "        },\n",
    "        'Evening' : {\n",
    "            'English' : 'Good evening.', \n",
    "            'Spanish' : 'Buenas noches.', \n",
    "            'French' : 'Bonsoir.'\n",
    "        },\n",
    "        'Night' : {\n",
    "            'English' : 'Why are you awake?', \n",
    "            'Spanish' : '¿Por qué estás despierto?', \n",
    "            'French' : 'Pourquoi es-tu réveillé?'\n",
    "        }\n",
    "    }\n",
    "\n",
    "    supported_languages = ['English', 'Spanish', 'French']\n",
    "\n",
    "\n",
    "    # Checking arguments (except the time value)\n",
    "    \n",
    "    if type(time) != str:\n",
    "        raise TypeError('Invalid time. Please enter the time as a string in military format.')\n",
    "\n",
    "    if type(language) != str:\n",
    "        raise TypeError('Invalid language. Please enter English, Spanish, or French as a string.')\n",
    "    \n",
    "    if not language in supported_languages:\n",
    "        raise ValueError('Invalid language. Please enter English, Spanish, or French as a string.')\n",
    "\n",
    "\n",
    "    # Converting time from str to int variables\n",
    "\n",
    "    hour = int(time[ : time.index(':')])        \n",
    "    minute = int(time[time.index(':') + 1 : ])    # Including in case I later decide to use minutes\n",
    "                                                  # to determine the period of the day.\n",
    "    \n",
    "    # Determining the period of the day\n",
    "    \n",
    "    if hour > 24:\n",
    "        raise ValueError('Invalid time. Please enter the time as a string in military format.')\n",
    "    elif 5 <= hour < 12:\n",
    "        period = 'Morning'\n",
    "    elif 12 <= hour < 17:\n",
    "        period = 'Afternoon'\n",
    "    elif 17 <= hour:\n",
    "        period = 'Evening'\n",
    "    else:\n",
    "        period = 'Night'\n",
    "    \n",
    "    message = greeting_dict[period][language]\n",
    "    \n",
    "    print(message)"
   ]
  },
  {
   "cell_type": "code",
   "execution_count": 80,
   "metadata": {},
   "outputs": [
    {
     "name": "stdout",
     "output_type": "stream",
     "text": [
      "Why are you awake?\n"
     ]
    }
   ],
   "source": [
    "greeting('1:30', 'English')"
   ]
  },
  {
   "cell_type": "code",
   "execution_count": 6,
   "metadata": {},
   "outputs": [],
   "source": [
    "def greeting_tester(time_list, language_list):\n",
    "    for time in time_list:\n",
    "        for language in language_list:\n",
    "            print(f'Time = {time}')\n",
    "            print(f'Language = {language}')\n",
    "            greeting(time, language)\n",
    "            print()\n",
    "    print('Test complete')"
   ]
  },
  {
   "cell_type": "code",
   "execution_count": null,
   "metadata": {},
   "outputs": [],
   "source": [
    "# Would beginning greeting_tester with a try statement with an except clause allow me to include invalid\n",
    "# arguments in time_list and language_list causing an interruption to the test?"
   ]
  },
  {
   "cell_type": "code",
   "execution_count": 82,
   "metadata": {},
   "outputs": [
    {
     "name": "stdout",
     "output_type": "stream",
     "text": [
      "Time = 4:00\n",
      "Language = English\n",
      "Why are you awake?\n",
      "\n",
      "Time = 4:00\n",
      "Language = Spanish\n",
      "¿Por qué estás despierto?\n",
      "\n",
      "Time = 4:00\n",
      "Language = French\n",
      "Pourquoi es-tu réveillé?\n",
      "\n",
      "Time = 10:30\n",
      "Language = English\n",
      "Good morning\n",
      "\n",
      "Time = 10:30\n",
      "Language = Spanish\n",
      "Buenos dias.\n",
      "\n",
      "Time = 10:30\n",
      "Language = French\n",
      "Bonjour.\n",
      "\n",
      "Time = 13:30\n",
      "Language = English\n",
      "Good afternoon.\n",
      "\n",
      "Time = 13:30\n",
      "Language = Spanish\n",
      "Buenas tardes.\n",
      "\n",
      "Time = 13:30\n",
      "Language = French\n",
      "Bon après-midi.\n",
      "\n",
      "Time = 18:00\n",
      "Language = English\n",
      "Good evening.\n",
      "\n",
      "Time = 18:00\n",
      "Language = Spanish\n",
      "Buenas noches.\n",
      "\n",
      "Time = 18:00\n",
      "Language = French\n",
      "Bonsoir.\n",
      "\n",
      "Test complete\n"
     ]
    }
   ],
   "source": [
    "# All of these times and languages are valid.\n",
    "\n",
    "times = ['4:00', '10:30', '13:30', '18:00']\n",
    "languages = ['English', 'Spanish', 'French']\n",
    "\n",
    "greeting_tester(times, languages)"
   ]
  },
  {
   "cell_type": "code",
   "execution_count": 83,
   "metadata": {},
   "outputs": [
    {
     "name": "stdout",
     "output_type": "stream",
     "text": [
      "Time = 4:00\n",
      "Language = English\n",
      "Why are you awake?\n",
      "\n",
      "Time = 4:00\n",
      "Language = Spanish\n",
      "¿Por qué estás despierto?\n",
      "\n",
      "Time = 4:00\n",
      "Language = French\n",
      "Pourquoi es-tu réveillé?\n",
      "\n",
      "Time = 4:00\n",
      "Language = German\n"
     ]
    },
    {
     "ename": "ValueError",
     "evalue": "Invalid language. Please enter English, Spanish, or French as a string.",
     "output_type": "error",
     "traceback": [
      "\u001b[0;31m---------------------------------------------------------------------------\u001b[0m",
      "\u001b[0;31mValueError\u001b[0m                                Traceback (most recent call last)",
      "Cell \u001b[0;32mIn[83], line 4\u001b[0m\n\u001b[1;32m      1\u001b[0m times \u001b[38;5;241m=\u001b[39m [\u001b[38;5;124m'\u001b[39m\u001b[38;5;124m4:00\u001b[39m\u001b[38;5;124m'\u001b[39m, \u001b[38;5;124m'\u001b[39m\u001b[38;5;124m10:30\u001b[39m\u001b[38;5;124m'\u001b[39m, \u001b[38;5;124m'\u001b[39m\u001b[38;5;124m13:30\u001b[39m\u001b[38;5;124m'\u001b[39m, \u001b[38;5;124m'\u001b[39m\u001b[38;5;124m18:00\u001b[39m\u001b[38;5;124m'\u001b[39m, \u001b[38;5;124m'\u001b[39m\u001b[38;5;124m25:00\u001b[39m\u001b[38;5;124m'\u001b[39m]\n\u001b[1;32m      2\u001b[0m languages \u001b[38;5;241m=\u001b[39m [\u001b[38;5;124m'\u001b[39m\u001b[38;5;124mEnglish\u001b[39m\u001b[38;5;124m'\u001b[39m, \u001b[38;5;124m'\u001b[39m\u001b[38;5;124mSpanish\u001b[39m\u001b[38;5;124m'\u001b[39m, \u001b[38;5;124m'\u001b[39m\u001b[38;5;124mFrench\u001b[39m\u001b[38;5;124m'\u001b[39m, \u001b[38;5;124m'\u001b[39m\u001b[38;5;124mGerman\u001b[39m\u001b[38;5;124m'\u001b[39m]\n\u001b[0;32m----> 4\u001b[0m \u001b[43mgreeting_tester\u001b[49m\u001b[43m(\u001b[49m\u001b[43mtimes\u001b[49m\u001b[43m,\u001b[49m\u001b[43m \u001b[49m\u001b[43mlanguages\u001b[49m\u001b[43m)\u001b[49m\n",
      "Cell \u001b[0;32mIn[81], line 6\u001b[0m, in \u001b[0;36mgreeting_tester\u001b[0;34m(time_list, language_list)\u001b[0m\n\u001b[1;32m      4\u001b[0m         \u001b[38;5;28mprint\u001b[39m(\u001b[38;5;124mf\u001b[39m\u001b[38;5;124m'\u001b[39m\u001b[38;5;124mTime = \u001b[39m\u001b[38;5;132;01m{\u001b[39;00mtime\u001b[38;5;132;01m}\u001b[39;00m\u001b[38;5;124m'\u001b[39m)\n\u001b[1;32m      5\u001b[0m         \u001b[38;5;28mprint\u001b[39m(\u001b[38;5;124mf\u001b[39m\u001b[38;5;124m'\u001b[39m\u001b[38;5;124mLanguage = \u001b[39m\u001b[38;5;132;01m{\u001b[39;00mlanguage\u001b[38;5;132;01m}\u001b[39;00m\u001b[38;5;124m'\u001b[39m)\n\u001b[0;32m----> 6\u001b[0m         \u001b[43mgreeting\u001b[49m\u001b[43m(\u001b[49m\u001b[43mtime\u001b[49m\u001b[43m,\u001b[49m\u001b[43m \u001b[49m\u001b[43mlanguage\u001b[49m\u001b[43m)\u001b[49m\n\u001b[1;32m      7\u001b[0m         \u001b[38;5;28mprint\u001b[39m()\n\u001b[1;32m      8\u001b[0m \u001b[38;5;28mprint\u001b[39m(\u001b[38;5;124m'\u001b[39m\u001b[38;5;124mTest complete\u001b[39m\u001b[38;5;124m'\u001b[39m)\n",
      "Cell \u001b[0;32mIn[78], line 41\u001b[0m, in \u001b[0;36mgreeting\u001b[0;34m(time, language)\u001b[0m\n\u001b[1;32m     38\u001b[0m     \u001b[38;5;28;01mraise\u001b[39;00m \u001b[38;5;167;01mTypeError\u001b[39;00m(\u001b[38;5;124m'\u001b[39m\u001b[38;5;124mInvalid language. Please enter English, Spanish, or French as a string.\u001b[39m\u001b[38;5;124m'\u001b[39m)\n\u001b[1;32m     40\u001b[0m \u001b[38;5;28;01mif\u001b[39;00m \u001b[38;5;129;01mnot\u001b[39;00m language \u001b[38;5;129;01min\u001b[39;00m supported_languages:\n\u001b[0;32m---> 41\u001b[0m     \u001b[38;5;28;01mraise\u001b[39;00m \u001b[38;5;167;01mValueError\u001b[39;00m(\u001b[38;5;124m'\u001b[39m\u001b[38;5;124mInvalid language. Please enter English, Spanish, or French as a string.\u001b[39m\u001b[38;5;124m'\u001b[39m)\n\u001b[1;32m     44\u001b[0m \u001b[38;5;66;03m# Converting time from str to int variables\u001b[39;00m\n\u001b[1;32m     46\u001b[0m hour \u001b[38;5;241m=\u001b[39m \u001b[38;5;28mint\u001b[39m(time[ : time\u001b[38;5;241m.\u001b[39mindex(\u001b[38;5;124m'\u001b[39m\u001b[38;5;124m:\u001b[39m\u001b[38;5;124m'\u001b[39m)])        \n",
      "\u001b[0;31mValueError\u001b[0m: Invalid language. Please enter English, Spanish, or French as a string."
     ]
    }
   ],
   "source": [
    "# Without exception handling, the invalid arguments prevent test completion.\n",
    "\n",
    "times = ['4:00', '10:30', '13:30', '18:00', '25:00']\n",
    "languages = ['English', 'Spanish', 'French', 'German']\n",
    "\n",
    "greeting_tester(times, languages)"
   ]
  },
  {
   "cell_type": "code",
   "execution_count": 87,
   "metadata": {},
   "outputs": [],
   "source": [
    "# Wrapping the greeting call in a try statement allows the test to proceed even after invalid arguments are\n",
    "# passed to the greeting function.\n",
    "\n",
    "def greeting_tester(time_list, language_list):\n",
    "    for time in time_list:\n",
    "        for language in language_list:\n",
    "            print(f'Time = {time}')\n",
    "            print(f'Language = {language}')\n",
    "            try:\n",
    "                greeting(time, language)\n",
    "            except:\n",
    "                print('Error')\n",
    "            print()\n",
    "    \n",
    "    print('Test complete')"
   ]
  },
  {
   "cell_type": "code",
   "execution_count": 29,
   "metadata": {},
   "outputs": [],
   "source": [
    "# Wrapping the greeting call in a try statement allows the test to proceed even after invalid arguments are\n",
    "# passed to the greeting function.\n",
    "\n",
    "def greeting_tester(time_list, language_list):\n",
    "    for time in time_list:\n",
    "        for language in language_list:\n",
    "            print(f'Time = {time}')\n",
    "            print(f'Language = {language}')\n",
    "            try:\n",
    "                greeting(time, language)\n",
    "            except Exception as error_message:\n",
    "                print('Error:', error_message)\n",
    "            print()\n",
    "    \n",
    "    print('Test complete')"
   ]
  },
  {
   "cell_type": "code",
   "execution_count": 8,
   "metadata": {},
   "outputs": [
    {
     "name": "stdout",
     "output_type": "stream",
     "text": [
      "Time = 4:00\n",
      "Language = English\n",
      "Why are you awake?\n",
      "\n",
      "Time = 4:00\n",
      "Language = Spanish\n",
      "¿Por qué estás despierto?\n",
      "\n",
      "Time = 4:00\n",
      "Language = French\n",
      "Pourquoi es-tu réveillé?\n",
      "\n",
      "Time = 4:00\n",
      "Language = German\n",
      "Error:  Invalid language. Please enter English, Spanish, or French as a string.\n",
      "\n",
      "Time = 10:30\n",
      "Language = English\n",
      "Good morning\n",
      "\n",
      "Time = 10:30\n",
      "Language = Spanish\n",
      "Buenos dias.\n",
      "\n",
      "Time = 10:30\n",
      "Language = French\n",
      "Bonjour.\n",
      "\n",
      "Time = 10:30\n",
      "Language = German\n",
      "Error:  Invalid language. Please enter English, Spanish, or French as a string.\n",
      "\n",
      "Time = 13:30\n",
      "Language = English\n",
      "Good afternoon.\n",
      "\n",
      "Time = 13:30\n",
      "Language = Spanish\n",
      "Buenas tardes.\n",
      "\n",
      "Time = 13:30\n",
      "Language = French\n",
      "Bon après-midi.\n",
      "\n",
      "Time = 13:30\n",
      "Language = German\n",
      "Error:  Invalid language. Please enter English, Spanish, or French as a string.\n",
      "\n",
      "Time = 18:00\n",
      "Language = English\n",
      "Good evening.\n",
      "\n",
      "Time = 18:00\n",
      "Language = Spanish\n",
      "Buenas noches.\n",
      "\n",
      "Time = 18:00\n",
      "Language = French\n",
      "Bonsoir.\n",
      "\n",
      "Time = 18:00\n",
      "Language = German\n",
      "Error:  Invalid language. Please enter English, Spanish, or French as a string.\n",
      "\n",
      "Time = 25:00\n",
      "Language = English\n",
      "Error:  Invalid time. Please enter the time as a string in military format.\n",
      "\n",
      "Time = 25:00\n",
      "Language = Spanish\n",
      "Error:  Invalid time. Please enter the time as a string in military format.\n",
      "\n",
      "Time = 25:00\n",
      "Language = French\n",
      "Error:  Invalid time. Please enter the time as a string in military format.\n",
      "\n",
      "Time = 25:00\n",
      "Language = German\n",
      "Error:  Invalid language. Please enter English, Spanish, or French as a string.\n",
      "\n",
      "Test complete\n"
     ]
    }
   ],
   "source": [
    "times = ['4:00', '10:30', '13:30', '18:00', '25:00']\n",
    "languages = ['English', 'Spanish', 'French', 'German']\n",
    "\n",
    "greeting_tester(times, languages)"
   ]
  },
  {
   "cell_type": "markdown",
   "metadata": {},
   "source": [
    "## NPV Calculator"
   ]
  },
  {
   "cell_type": "code",
   "execution_count": 1,
   "metadata": {},
   "outputs": [],
   "source": [
    "# This might be wrong.  \n",
    "\n",
    "def npv(investment, annual_cash_flows, rate):\n",
    "    npv = -investment\n",
    "    for cash_flow in annual_cash_flows:\n",
    "        index = annual_cash_flows.index(cash_flow)\n",
    "        year = index + 1\n",
    "        npv += cash_flow / ((1 + rate) ** year)\n",
    "    return npv"
   ]
  },
  {
   "cell_type": "code",
   "execution_count": 3,
   "metadata": {},
   "outputs": [
    {
     "data": {
      "text/plain": [
       "4.545454545454545"
      ]
     },
     "execution_count": 3,
     "metadata": {},
     "output_type": "execute_result"
    }
   ],
   "source": [
    "# This result does not match the output of Excel's NPV function.\n",
    "\n",
    "npv(10, [4, 4, 4, 4], 0.1)"
   ]
  },
  {
   "cell_type": "markdown",
   "metadata": {},
   "source": []
  },
  {
   "cell_type": "markdown",
   "metadata": {},
   "source": []
  },
  {
   "cell_type": "markdown",
   "metadata": {},
   "source": []
  },
  {
   "cell_type": "markdown",
   "metadata": {},
   "source": []
  },
  {
   "cell_type": "code",
   "execution_count": 28,
   "metadata": {},
   "outputs": [
    {
     "name": "stdout",
     "output_type": "stream",
     "text": [
      "Error: division by zero\n",
      "Final line\n"
     ]
    }
   ],
   "source": [
    "try:\n",
    "    1/0\n",
    "except Exception as error:\n",
    "    print('Error:', error)\n",
    "\n",
    "print('Final line')"
   ]
  },
  {
   "cell_type": "code",
   "execution_count": 17,
   "metadata": {},
   "outputs": [
    {
     "ename": "ZeroDivisionError",
     "evalue": "division by zero",
     "output_type": "error",
     "traceback": [
      "\u001b[0;31m---------------------------------------------------------------------------\u001b[0m",
      "\u001b[0;31mZeroDivisionError\u001b[0m                         Traceback (most recent call last)",
      "Cell \u001b[0;32mIn[17], line 1\u001b[0m\n\u001b[0;32m----> 1\u001b[0m \u001b[38;5;241;43m1\u001b[39;49m\u001b[38;5;241;43m/\u001b[39;49m\u001b[38;5;241;43m0\u001b[39;49m\n\u001b[1;32m      2\u001b[0m \u001b[38;5;28mprint\u001b[39m(\u001b[38;5;124m'\u001b[39m\u001b[38;5;124mFinal line\u001b[39m\u001b[38;5;124m'\u001b[39m)\n",
      "\u001b[0;31mZeroDivisionError\u001b[0m: division by zero"
     ]
    }
   ],
   "source": [
    "1/0\n",
    "print('Final line')"
   ]
  },
  {
   "cell_type": "markdown",
   "metadata": {},
   "source": [
    "---"
   ]
  },
  {
   "cell_type": "code",
   "execution_count": 2,
   "metadata": {},
   "outputs": [],
   "source": [
    "portfolio_a = {\n",
    "    'Ticker' : {'Shares' : 100, 'Beginning Price' : 100, 'Ending Price' : 110},\n",
    "    'Ticker' : {'Shares' : 100, 'Beginning Price' : 100, 'Ending Price' : 110},\n",
    "    'Ticker' : {'Shares' : 100, 'Beginning Price' : 100, 'Ending Price' : 110}\n",
    "}\n",
    "\n",
    "portfolio_b = {\n",
    "    'Ticker' : {'Shares' : 100, 'Beginning Price' : 100, 'Ending Price' : 110},\n",
    "    'Ticker' : {'Shares' : 100, 'Beginning Price' : 100, 'Ending Price' : 110},\n",
    "    'Ticker' : {'Shares' : 100, 'Beginning Price' : 100, 'Ending Price' : 110}\n",
    "}\n",
    "\n",
    "portfolio_c = {\n",
    "    'Ticker' : {'Shares' : 100, 'Beginning Price' : 100, 'Ending Price' : 110},\n",
    "    'Ticker' : {'Shares' : 100, 'Beginning Price' : 100, 'Ending Price' : 110},\n",
    "    'Ticker' : {'Shares' : 100, 'Beginning Price' : 100, 'Ending Price' : 110}\n",
    "}"
   ]
  },
  {
   "cell_type": "code",
   "execution_count": 3,
   "metadata": {},
   "outputs": [],
   "source": [
    "def calculate_return(portfolio):\n",
    "    \n",
    "    # Initialize variables.\n",
    "    \n",
    "    portfolio_beginning_value = 0\n",
    "    portfolio_ending_value = 0\n",
    "    \n",
    "    \n",
    "    # Calculate the beginning and ending value of the portfolio.\n",
    "    \n",
    "    for asset in portfolio.values():\n",
    "        \n",
    "        # Calculate the beginning value of each asset and add it to portfolio_beginning_value.\n",
    "        \n",
    "        asset_beginning_value = asset['Shares'] * asset['Beginning Price']\n",
    "        portfolio_beginning_value += asset_beginning_value\n",
    "        \n",
    "        \n",
    "        #  Calculate the ending value of each asset and add it to portfolio_ending_value.\n",
    "        \n",
    "        asset_ending_value = asset['Shares'] * asset['Ending Price']\n",
    "        portfolio_ending_value += asset_ending_value\n",
    "\n",
    "\n",
    "    # Calculate and return the return of the portfolio.\n",
    "\n",
    "    return (portfolio_ending_value - portfolio_beginning_value) / portfolio_beginning_value"
   ]
  },
  {
   "cell_type": "code",
   "execution_count": 4,
   "metadata": {},
   "outputs": [
    {
     "data": {
      "text/plain": [
       "0.1"
      ]
     },
     "execution_count": 4,
     "metadata": {},
     "output_type": "execute_result"
    }
   ],
   "source": [
    "calculate_return(portfolio_a)"
   ]
  },
  {
   "cell_type": "markdown",
   "metadata": {},
   "source": [
    "[Demonstrate copying and pasting the code.]\n",
    "\n",
    "[Then, the format of the input data changes, so each instance of the code must be updated.]\n",
    "\n",
    "[Instead, we could create a function. Our code becomes easier to read and update.]"
   ]
  },
  {
   "cell_type": "code",
   "execution_count": 5,
   "metadata": {},
   "outputs": [
    {
     "data": {
      "text/plain": [
       "[<matplotlib.lines.Line2D at 0x79ef34d9bdc0>]"
      ]
     },
     "execution_count": 5,
     "metadata": {},
     "output_type": "execute_result"
    },
    {
     "data": {
      "image/png": "[encoded data removed]",
      "text/plain": [
       "<Figure size 640x480 with 1 Axes>"
      ]
     },
     "metadata": {},
     "output_type": "display_data"
    }
   ],
   "source": [
    "from matplotlib import pyplot as plt\n",
    "\n",
    "plt.plot([1, 2, 3, 4])"
   ]
  },
  {
   "cell_type": "code",
   "execution_count": null,
   "metadata": {},
   "outputs": [],
   "source": []
  }
 ],
 "metadata": {
  "kernelspec": {
   "display_name": "Python 3",
   "language": "python",
   "name": "python3"
  },
  "language_info": {
   "codemirror_mode": {
    "name": "ipython",
    "version": 3
   },
   "file_extension": ".py",
   "mimetype": "text/x-python",
   "name": "python",
   "nbconvert_exporter": "python",
   "pygments_lexer": "ipython3",
   "version": "3.10.13"
  }
 },
 "nbformat": 4,
 "nbformat_minor": 2
}
